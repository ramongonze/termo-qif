{
 "cells": [
  {
   "cell_type": "code",
   "execution_count": 6,
   "metadata": {},
   "outputs": [],
   "source": [
    "import os\n",
    "os.chdir('/home/ramon/projects/termo-qif/data')"
   ]
  },
  {
   "cell_type": "code",
   "execution_count": 7,
   "metadata": {},
   "outputs": [],
   "source": [
    "def read_file(path):\n",
    "    words = set()\n",
    "    f = open(path)\n",
    "    for line in f:\n",
    "        words.add(line.strip())\n",
    "    f.close()\n",
    "    return words"
   ]
  },
  {
   "cell_type": "code",
   "execution_count": 8,
   "metadata": {},
   "outputs": [
    {
     "name": "stdout",
     "output_type": "stream",
     "text": [
      "|palavras| = 1162241\n",
      "|verbos| = 4022\n",
      "|conjugacoes| = 195702\n"
     ]
    }
   ],
   "source": [
    "words = read_file('palavras')\n",
    "verbs = read_file('verbos')\n",
    "conjugations = read_file('conjugacoes')\n",
    "print('|palavras| = %d\\n|verbos| = %d\\n|conjugacoes| = %d'%(len(words), len(verbs), len(conjugations)))"
   ]
  },
  {
   "cell_type": "markdown",
   "metadata": {},
   "source": [
    "There is no word of 5 letters outside *palavras* set"
   ]
  },
  {
   "cell_type": "code",
   "execution_count": 9,
   "metadata": {},
   "outputs": [
    {
     "name": "stdout",
     "output_type": "stream",
     "text": [
      "|all_words_5_letters| = 19199\n"
     ]
    }
   ],
   "source": [
    "all_words = (words.union(verbs)).union(conjugations)\n",
    "all_words_5_letters = {word for word in all_words if len(word) == 5}\n",
    "print(\"|all_words_5_letters| = %d\"%(len(all_words_5_letters)))"
   ]
  },
  {
   "cell_type": "code",
   "execution_count": 10,
   "metadata": {},
   "outputs": [],
   "source": [
    "f = open('palavras-5-letras', 'w')\n",
    "for word in all_words_5_letters:\n",
    "    f.write(word + '\\n')\n",
    "f.close()"
   ]
  }
 ],
 "metadata": {
  "kernelspec": {
   "display_name": "Python 3.9.12 ('base')",
   "language": "python",
   "name": "python3"
  },
  "language_info": {
   "codemirror_mode": {
    "name": "ipython",
    "version": 3
   },
   "file_extension": ".py",
   "mimetype": "text/x-python",
   "name": "python",
   "nbconvert_exporter": "python",
   "pygments_lexer": "ipython3",
   "version": "3.9.12"
  },
  "orig_nbformat": 4,
  "vscode": {
   "interpreter": {
    "hash": "fdcdbcc88b7194c6513523f748be4b712a843a785a87c5dce30a4fe0b187c29b"
   }
  }
 },
 "nbformat": 4,
 "nbformat_minor": 2
}
